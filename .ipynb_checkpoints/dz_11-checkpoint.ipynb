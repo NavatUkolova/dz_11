{
 "cells": [
  {
   "cell_type": "raw",
   "id": "860b43e3",
   "metadata": {},
   "source": [
    "f(x) = -12x^4*sin(cos(x)) - 18x^3+5x^2 + 10x - 30\n",
    "\n",
    "1 Определить корни\n",
    "\n",
    "2 Найти интервалы, на которых функция возрастает\n",
    "\n",
    "3 Найти интервалы, на которых функция убывает\n",
    "\n",
    "4 Построить график\n",
    "\n",
    "5 Вычислить вершину\n",
    "\n",
    "6 Определить промежутки, на котором f > 0\n",
    "\n",
    "7 Определить промежутки, на котором f < 0"
   ]
  },
  {
   "cell_type": "code",
   "execution_count": 1,
   "id": "4218cf75",
   "metadata": {},
   "outputs": [],
   "source": [
    "import sympy\n",
    "import numpy as np\n",
    "from sympy.plotting import plot\n",
    "from sympy import symbols"
   ]
  },
  {
   "cell_type": "code",
   "execution_count": null,
   "id": "c5ac6d84",
   "metadata": {},
   "outputs": [],
   "source": [
    "x = symbols('x')\n",
    "plot(-12*x**4*sympy.sin(sympy.cos(x)) - 18*x**3 + 5*x**2 + 10*x - 30, (x, -100, 100))"
   ]
  }
 ],
 "metadata": {
  "kernelspec": {
   "display_name": "Python 3 (ipykernel)",
   "language": "python",
   "name": "python3"
  },
  "language_info": {
   "codemirror_mode": {
    "name": "ipython",
    "version": 3
   },
   "file_extension": ".py",
   "mimetype": "text/x-python",
   "name": "python",
   "nbconvert_exporter": "python",
   "pygments_lexer": "ipython3",
   "version": "3.10.4"
  }
 },
 "nbformat": 4,
 "nbformat_minor": 5
}
